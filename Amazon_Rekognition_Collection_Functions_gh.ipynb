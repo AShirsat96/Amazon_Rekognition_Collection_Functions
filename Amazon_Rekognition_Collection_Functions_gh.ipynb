{
 "cells": [
  {
   "cell_type": "code",
   "execution_count": 1,
   "id": "409327df",
   "metadata": {},
   "outputs": [],
   "source": [
    "# Install once only - python official library from AWS\n",
    "# !pip install boto3"
   ]
  },
  {
   "cell_type": "markdown",
   "id": "2f7d6099",
   "metadata": {},
   "source": [
    "### Define the Configuration"
   ]
  },
  {
   "cell_type": "code",
   "execution_count": 2,
   "id": "04baf54f",
   "metadata": {},
   "outputs": [],
   "source": [
    "aws_accesskey = <Your Access Key>\n",
    "aws_secretaccess = <Your secret access key>\n",
    "myregion= <your region>"
   ]
  },
  {
   "cell_type": "code",
   "execution_count": 3,
   "id": "ef8d2eea",
   "metadata": {},
   "outputs": [],
   "source": [
    "import boto3"
   ]
  },
  {
   "cell_type": "code",
   "execution_count": 4,
   "id": "e5089997",
   "metadata": {},
   "outputs": [],
   "source": [
    "Rekognition_client = boto3.client('rekognition',aws_access_key_id = aws_accesskey ,aws_secret_access_key = aws_secretaccess ,region_name = myregion )"
   ]
  },
  {
   "cell_type": "code",
   "execution_count": 5,
   "id": "f8f44a1b",
   "metadata": {},
   "outputs": [],
   "source": [
    "from botocore.exceptions import ClientError"
   ]
  },
  {
   "cell_type": "markdown",
   "id": "adf2f44c",
   "metadata": {},
   "source": [
    "### Creating a collection"
   ]
  },
  {
   "cell_type": "code",
   "execution_count": 6,
   "id": "e25a49eb",
   "metadata": {},
   "outputs": [],
   "source": [
    "def Create_Collection(aws_access,aws_secret, aws_region,Collection_ID):\n",
    "    print('Creating collection:' + Collection_ID)\n",
    "    response = Rekognition_client.create_collection(CollectionId=Collection_ID)\n",
    "    print('Collection ARN: ' + response['CollectionArn'])\n",
    "    print('Status code: ' + str(response['StatusCode']))\n",
    "    print('Done...')"
   ]
  },
  {
   "cell_type": "code",
   "execution_count": 7,
   "id": "05b342f5",
   "metadata": {},
   "outputs": [
    {
     "name": "stdout",
     "output_type": "stream",
     "text": [
      "Creating collection:MyCollection\n",
      "Collection ARN: aws:rekognition:ap-southeast-1:083587501290:collection/MyCollection\n",
      "Status code: 200\n",
      "Done...\n"
     ]
    }
   ],
   "source": [
    "Create_Collection(aws_accesskey,aws_secretaccess,myregion,\"MyCollection\")"
   ]
  },
  {
   "cell_type": "code",
   "execution_count": 8,
   "id": "f2e2221f",
   "metadata": {},
   "outputs": [
    {
     "name": "stdout",
     "output_type": "stream",
     "text": [
      "Creating collection:MyCollection2\n",
      "Collection ARN: aws:rekognition:ap-southeast-1:083587501290:collection/MyCollection2\n",
      "Status code: 200\n",
      "Done...\n"
     ]
    }
   ],
   "source": [
    "Create_Collection(aws_accesskey,aws_secretaccess,myregion,\"MyCollection2\")"
   ]
  },
  {
   "cell_type": "code",
   "execution_count": 9,
   "id": "d3ab0429",
   "metadata": {},
   "outputs": [
    {
     "name": "stdout",
     "output_type": "stream",
     "text": [
      "Creating collection:MyCollection3\n",
      "Collection ARN: aws:rekognition:ap-southeast-1:083587501290:collection/MyCollection3\n",
      "Status code: 200\n",
      "Done...\n"
     ]
    }
   ],
   "source": [
    "Create_Collection(aws_accesskey,aws_secretaccess,myregion,\"MyCollection3\")"
   ]
  },
  {
   "cell_type": "code",
   "execution_count": 10,
   "id": "f986da0a",
   "metadata": {},
   "outputs": [
    {
     "name": "stdout",
     "output_type": "stream",
     "text": [
      "Creating collection:MyCollection4\n",
      "Collection ARN: aws:rekognition:ap-southeast-1:083587501290:collection/MyCollection4\n",
      "Status code: 200\n",
      "Done...\n"
     ]
    }
   ],
   "source": [
    "Create_Collection(aws_accesskey,aws_secretaccess,myregion,\"MyCollection4\")"
   ]
  },
  {
   "cell_type": "markdown",
   "id": "f1836d6a",
   "metadata": {},
   "source": [
    "### Listing out all the collections"
   ]
  },
  {
   "cell_type": "code",
   "execution_count": 11,
   "id": "08a67bcb",
   "metadata": {},
   "outputs": [],
   "source": [
    "def List_Collection(aws_access,aws_secret, aws_region):\n",
    "    print('Displaying collections: ')\n",
    "    \n",
    "    max_results=2\n",
    "    \n",
    "    response = Rekognition_client.list_collections(MaxResults=max_results)\n",
    "    collection_count = 0\n",
    "    done = False\n",
    "    \n",
    "    while done == False:\n",
    "        collections = response['CollectionIds']\n",
    "        \n",
    "        for collection in collections:\n",
    "            print(collection)\n",
    "            collection_count+=1\n",
    "        if 'NextToken' in response:\n",
    "            nextToken = response['NextToken']\n",
    "            response=Rekognition_client.list_collections(NextToken=nextToken,MaxResults=max_results)\n",
    "            \n",
    "        else:\n",
    "            done = True\n",
    "            \n",
    "    return collection_count"
   ]
  },
  {
   "cell_type": "code",
   "execution_count": 12,
   "id": "807ec6a6",
   "metadata": {},
   "outputs": [
    {
     "name": "stdout",
     "output_type": "stream",
     "text": [
      "Displaying collections: \n",
      "MyCollection\n",
      "MyCollection2\n",
      "MyCollection3\n",
      "MyCollection4\n"
     ]
    },
    {
     "data": {
      "text/plain": [
       "4"
      ]
     },
     "execution_count": 12,
     "metadata": {},
     "output_type": "execute_result"
    }
   ],
   "source": [
    "List_Collection(aws_accesskey,aws_secretaccess,myregion)"
   ]
  },
  {
   "cell_type": "markdown",
   "id": "a3411f35",
   "metadata": {},
   "source": [
    "### Deleting a Collection"
   ]
  },
  {
   "cell_type": "code",
   "execution_count": 13,
   "id": "2386643d",
   "metadata": {},
   "outputs": [],
   "source": [
    "def Delete_Collection(aws_access,aws_secret, aws_region,Collection_ID):\n",
    "    print('Deleting collection: ' + Collection_ID)\n",
    "    \n",
    "    status_code = 0\n",
    "    \n",
    "    try:\n",
    "        response = Rekognition_client.delete_collection(CollectionId=Collection_ID)\n",
    "        status_code = response['StatusCode']\n",
    "        \n",
    "    except ClientError as e:\n",
    "        if e.response['Error']['Code'] == 'ResourceNotFoundException':\n",
    "            print('The collection ' + Collection_ID + ' was not found ')\n",
    "        else:\n",
    "            print('Error other than Not Found occurred: ' + e.response['Error']['Message'])\n",
    "        status_code = e.response['ResponseMetadata']['HTTPStatusCode']\n",
    "    return (status_code)"
   ]
  },
  {
   "cell_type": "code",
   "execution_count": 14,
   "id": "6f5e8e37",
   "metadata": {},
   "outputs": [
    {
     "name": "stdout",
     "output_type": "stream",
     "text": [
      "Deleting collection: MyCollection3\n"
     ]
    },
    {
     "data": {
      "text/plain": [
       "200"
      ]
     },
     "execution_count": 14,
     "metadata": {},
     "output_type": "execute_result"
    }
   ],
   "source": [
    "Delete_Collection(aws_accesskey,aws_secretaccess,myregion,\"MyCollection3\")"
   ]
  },
  {
   "cell_type": "code",
   "execution_count": 15,
   "id": "15178599",
   "metadata": {},
   "outputs": [
    {
     "name": "stdout",
     "output_type": "stream",
     "text": [
      "Deleting collection: MyCollection4\n"
     ]
    },
    {
     "data": {
      "text/plain": [
       "200"
      ]
     },
     "execution_count": 15,
     "metadata": {},
     "output_type": "execute_result"
    }
   ],
   "source": [
    "Delete_Collection(aws_accesskey,aws_secretaccess,myregion,\"MyCollection4\")"
   ]
  },
  {
   "cell_type": "markdown",
   "id": "53af9402",
   "metadata": {},
   "source": [
    "### Adding Faces to the collection"
   ]
  },
  {
   "cell_type": "code",
   "execution_count": 16,
   "id": "e0d50d49",
   "metadata": {},
   "outputs": [],
   "source": [
    "def AddFaces_Collection(aws_access,aws_secret, aws_region,bucket_name,photo_name,Collection_ID):\n",
    "    response = Rekognition_client.index_faces(CollectionId=Collection_ID,\n",
    "                                  Image={'S3Object': {'Bucket': bucket_name, 'Name': photo_name}},\n",
    "                                  ExternalImageId=photo_name,\n",
    "                                  MaxFaces=15,\n",
    "                                  QualityFilter=\"AUTO\",\n",
    "                                  DetectionAttributes=['ALL'])\n",
    "    print('Results for ' + photo_name)\n",
    "    print('Faces indexed:')\n",
    "    for faceRecord in response['FaceRecords']:\n",
    "        print('  Face ID: ' + faceRecord['Face']['FaceId'])\n",
    "        print('  Location: {}'.format(faceRecord['Face']['BoundingBox']))\n",
    "        \n",
    "    print('Faces not indexed:')\n",
    "    for unindexedFace in response['UnindexedFaces']:\n",
    "        print(' Location: {}'.format(unindexedFace['FaceDetail']['BoundingBox']))\n",
    "        print(' Reasons:')\n",
    "        for reason in unindexedFace['Reasons']:\n",
    "            print('   ' + reason)\n",
    "    return len(response['FaceRecords'])"
   ]
  },
  {
   "cell_type": "code",
   "execution_count": 17,
   "id": "e9275a89",
   "metadata": {},
   "outputs": [
    {
     "name": "stdout",
     "output_type": "stream",
     "text": [
      "Results for Celebrities_Group.jpg\n",
      "Faces indexed:\n",
      "  Face ID: ac5b2d79-a2d2-466c-aa66-eb7dc07b7828\n",
      "  Location: {'Width': 0.1918514519929886, 'Height': 0.4871792495250702, 'Left': 0.5067951679229736, 'Top': 0.4071531891822815}\n",
      "  Face ID: 634517bb-5347-4a7a-9232-fa3a108241ba\n",
      "  Location: {'Width': 0.14550478756427765, 'Height': 0.3137165307998657, 'Left': 0.09954940527677536, 'Top': 0.12622591853141785}\n",
      "  Face ID: 0a718a93-46fa-496d-a1db-107f27515ca3\n",
      "  Location: {'Width': 0.13213908672332764, 'Height': 0.3438571095466614, 'Left': 0.3283844292163849, 'Top': 0.39797061681747437}\n",
      "  Face ID: 61520c35-830a-4034-9a27-449928a0ce5d\n",
      "  Location: {'Width': 0.1347799301147461, 'Height': 0.3243994414806366, 'Left': 0.7409043908119202, 'Top': 0.2618715167045593}\n",
      "  Face ID: 61623f99-33f9-4fc2-8410-c0a45411d175\n",
      "  Location: {'Width': 0.10224471241235733, 'Height': 0.3038819432258606, 'Left': 0.22581912577152252, 'Top': 0.3236635625362396}\n",
      "  Face ID: 5a5821cc-00ea-4cfc-bd2b-13aad40500fa\n",
      "  Location: {'Width': 0.10219649225473404, 'Height': 0.2266165167093277, 'Left': 0.5868505239486694, 'Top': -0.0002586921618785709}\n",
      "  Face ID: 51e50940-c3d1-4860-8a24-5e239e4521af\n",
      "  Location: {'Width': 0.08987879753112793, 'Height': 0.24076208472251892, 'Left': 0.35218772292137146, 'Top': 0.07832086831331253}\n",
      "  Face ID: c7ea1ec3-baf6-436e-86dc-1b5105cc9857\n",
      "  Location: {'Width': 0.10254708677530289, 'Height': 0.20597456395626068, 'Left': 0.7853334546089172, 'Top': 0.07138026505708694}\n",
      "  Face ID: ebe07fdb-a4ab-4b52-9235-dbd4800f4d81\n",
      "  Location: {'Width': 0.0861707553267479, 'Height': 0.2195730358362198, 'Left': 0.23159287869930267, 'Top': 0.07467055320739746}\n",
      "  Face ID: 5cabef36-fa05-4706-b20f-f1b325d05919\n",
      "  Location: {'Width': 0.07149187475442886, 'Height': 0.19294215738773346, 'Left': 0.4750222861766815, 'Top': 0.0956759825348854}\n",
      "  Face ID: 10f629c7-0001-4423-a855-f78f75571ce3\n",
      "  Location: {'Width': 0.07638096809387207, 'Height': 0.17094948887825012, 'Left': 0.6897773146629333, 'Top': 0.11293210089206696}\n",
      "Faces not indexed:\n"
     ]
    },
    {
     "data": {
      "text/plain": [
       "11"
      ]
     },
     "execution_count": 17,
     "metadata": {},
     "output_type": "execute_result"
    }
   ],
   "source": [
    "AddFaces_Collection(aws_accesskey,aws_secretaccess,myregion,<S3 bucket name>,'Celebrities_Group.jpg',\"MyCollection\")"
   ]
  },
  {
   "cell_type": "markdown",
   "id": "dc0a5aff",
   "metadata": {},
   "source": [
    "### Describing a collection"
   ]
  },
  {
   "cell_type": "code",
   "execution_count": 18,
   "id": "3a02351c",
   "metadata": {},
   "outputs": [],
   "source": [
    "def describe_collection(aws_access,aws_secret, aws_region,Collection_ID):\n",
    "    try:\n",
    "        response = Rekognition_client.describe_collection(CollectionId=Collection_ID)\n",
    "        print(\"Collection Arn: \" + response['CollectionARN']) # CollectionARN full form is collection Amazon Resource Name\n",
    "        print(\"Face Count: \" + str(response['FaceCount']))\n",
    "        print(\"Face Model Version: \" + response['FaceModelVersion'])\n",
    "        print(\"Timestamp: \" + str(response['CreationTimestamp']))\n",
    "    \n",
    "    except ClientError as e:\n",
    "        if e.response['Error']['Code'] == 'ResourceNotFoundException':\n",
    "            print('The Collection ' + Collection_ID + ' was not found ')\n",
    "        else:\n",
    "            print('Error other than Not Found occurred: ' + e.response['Error']['Message'])\n",
    "            print('Done...')"
   ]
  },
  {
   "cell_type": "code",
   "execution_count": 19,
   "id": "a2cecfca",
   "metadata": {},
   "outputs": [
    {
     "name": "stdout",
     "output_type": "stream",
     "text": [
      "Collection Arn: arn:aws:rekognition:ap-southeast-1:083587501290:collection/MyCollection\n",
      "Face Count: 11\n",
      "Face Model Version: 7.0\n",
      "Timestamp: 2024-03-08 17:44:26.420000+08:00\n"
     ]
    }
   ],
   "source": [
    "describe_collection(aws_accesskey,aws_secretaccess,myregion,\"MyCollection\")"
   ]
  },
  {
   "cell_type": "markdown",
   "id": "0d10447c",
   "metadata": {},
   "source": [
    "### Deleting Faces from a collection"
   ]
  },
  {
   "cell_type": "code",
   "execution_count": 20,
   "id": "bfda3c82",
   "metadata": {},
   "outputs": [],
   "source": [
    "def deleteFaces_collection(aws_access,aws_secret, aws_region,Collection_ID,faces):\n",
    "    response = Rekognition_client.delete_faces(CollectionId=Collection_ID,FaceIds=faces)\n",
    "    \n",
    "    print(str(len(response['DeletedFaces'])) + ' faces deleted:')\n",
    "    for faceId in response['DeletedFaces']:\n",
    "        print(faceId)\n",
    "    return len(response['DeletedFaces'])\n",
    "\n",
    "    Collection_ID = 'collection-id'\n",
    "    faces = []\n",
    "    faces.append(\"xxxxxxxx-xxxx-xxxx-xxxx-xxxxxxxxxxxx\")\n",
    "\n",
    "    faces_count = delete_faces_from_collection(Collection_ID, faces)\n",
    "    print(\"deleted faces count: \" + str(faces_count))"
   ]
  },
  {
   "cell_type": "code",
   "execution_count": 22,
   "id": "46ee9b5a",
   "metadata": {},
   "outputs": [
    {
     "name": "stdout",
     "output_type": "stream",
     "text": [
      "2 faces deleted:\n",
      "ebe07fdb-a4ab-4b52-9235-dbd4800f4d81\n",
      "ac5b2d79-a2d2-466c-aa66-eb7dc07b7828\n"
     ]
    },
    {
     "data": {
      "text/plain": [
       "2"
      ]
     },
     "execution_count": 22,
     "metadata": {},
     "output_type": "execute_result"
    }
   ],
   "source": [
    "deleteFaces_collection(aws_accesskey,aws_secretaccess,myregion,\"MyCollection\",[<Face IDS>])"
   ]
  },
  {
   "cell_type": "code",
   "execution_count": null,
   "id": "33f99ee8",
   "metadata": {},
   "outputs": [],
   "source": []
  }
 ],
 "metadata": {
  "kernelspec": {
   "display_name": "Python 3",
   "language": "python",
   "name": "python3"
  },
  "language_info": {
   "codemirror_mode": {
    "name": "ipython",
    "version": 3
   },
   "file_extension": ".py",
   "mimetype": "text/x-python",
   "name": "python",
   "nbconvert_exporter": "python",
   "pygments_lexer": "ipython3",
   "version": "3.8.8"
  }
 },
 "nbformat": 4,
 "nbformat_minor": 5
}
